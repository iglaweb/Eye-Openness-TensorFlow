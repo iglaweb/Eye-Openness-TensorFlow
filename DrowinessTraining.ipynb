{
 "cells": [
  {
   "cell_type": "code",
   "execution_count": null,
   "metadata": {
    "collapsed": true
   },
   "outputs": [],
   "source": [
    "# for auto-reloading external modules\n",
    "# see http://stackoverflow.com/questions/1907993/autoreload-of-modules-in-ipython\n",
    "%load_ext autoreload\n",
    "%autoreload 2\n",
    "\n",
    "import matplotlib.pyplot as plt\n",
    "import pandas as pd\n",
    "import tensorflow as tf\n",
    "from pandas import np\n",
    "from tensorflow_examples.lite.model_maker.core.task.model_spec import (mobilenet_v2_spec)\n",
    "\n",
    "assert tf.__version__.startswith('2')\n",
    "\n",
    "import os\n",
    "from pathlib import Path\n",
    "from shutil import copyfile\n",
    "\n",
    "import tensorflow as tf\n",
    "from tflite_model_maker import configs\n",
    "from tflite_model_maker.core.task import image_classifier\n",
    "\n",
    "assert tf.__version__.startswith('2')\n",
    "from tensorflow_examples.lite.model_maker.core.data_util.image_dataloader import ImageClassifierDataLoader\n"
   ]
  },
  {
   "cell_type": "markdown",
   "source": [
    "### Declare variables"
   ],
   "metadata": {
    "collapsed": false,
    "pycharm": {
     "name": "#%% md\n"
    }
   }
  },
  {
   "cell_type": "code",
   "execution_count": null,
   "outputs": [],
   "source": [
    "MODEL_SPEC = mobilenet_v2_spec\n",
    "EPOCH = 4\n",
    "EYE_PREPARE_FOLDER = './eyes_state'\n",
    "OUTPUT_MODELS_FOLDER = './model-files/'\n",
    "URL_DATASET = 'http://mrl.cs.vsb.cz/data/eyedataset/mrlEyes_2018_01.zip'\n"
   ],
   "metadata": {
    "collapsed": false,
    "pycharm": {
     "name": "#%%\n"
    }
   }
  },
  {
   "cell_type": "code",
   "execution_count": null,
   "outputs": [],
   "source": [
    "gpus = tf.config.experimental.list_physical_devices('GPU')\n",
    "for gpu in gpus:\n",
    "    print(\"Name:\", gpu.name, \"  Type:\", gpu.device_type)"
   ],
   "metadata": {
    "collapsed": false,
    "pycharm": {
     "name": "#%%\n"
    }
   }
  },
  {
   "cell_type": "markdown",
   "source": [
    "### Prepare dataset"
   ],
   "metadata": {
    "collapsed": false,
    "pycharm": {
     "name": "#%% md\n"
    }
   }
  },
  {
   "cell_type": "code",
   "execution_count": null,
   "outputs": [],
   "source": [
    "def prepare_dataset(filename):\n",
    "    data_root = os.path.abspath(filename)\n",
    "    label_names = sorted(\n",
    "        name for name in os.listdir(data_root)\n",
    "        if os.path.isdir(os.path.join(data_root, name)))\n",
    "\n",
    "    for index, name in enumerate(label_names):\n",
    "        print(name)\n",
    "\n",
    "    closed = []\n",
    "    opened = []\n",
    "    for subdir, dirs, files in os.walk(data_root):\n",
    "        for file in files:\n",
    "            if file.endswith('.png'):\n",
    "                filename = os.path.join(subdir, file)\n",
    "                eye_state = file.split('_')[4]  # '_'.join(file.split('_')[:-3])\n",
    "                if eye_state == '0':\n",
    "                    closed.append(filename)\n",
    "                else:\n",
    "                    opened.append(filename)\n",
    "                # print(filename_new)\n",
    "\n",
    "    Path(EYE_PREPARE_FOLDER).mkdir(parents=True, exist_ok=True)\n",
    "    Path(f\"{EYE_PREPARE_FOLDER}/opened\").mkdir(parents=True, exist_ok=True)\n",
    "    Path(f\"{EYE_PREPARE_FOLDER}/closed\").mkdir(parents=True, exist_ok=True)\n",
    "\n",
    "    for file in opened:\n",
    "        copyfile(file, f\"{EYE_PREPARE_FOLDER}/opened/\" + os.path.basename(file))\n",
    "    for file in closed:\n",
    "        copyfile(file, f\"{EYE_PREPARE_FOLDER}/closed/\" + os.path.basename(file))\n",
    "\n",
    "zip_file = tf.keras.utils.get_file(\n",
    "      'eye_photos.zip',\n",
    "      URL_DATASET, extract=True)\n",
    "base_dir = os.path.join(os.path.dirname(zip_file), 'mrlEyes_2018_01')\n",
    "print(base_dir)\n",
    "prepare_dataset(base_dir)"
   ],
   "metadata": {
    "collapsed": false,
    "pycharm": {
     "name": "#%%\n"
    }
   }
  },
  {
   "cell_type": "code",
   "execution_count": null,
   "metadata": {
    "pycharm": {
     "name": "#%%\n"
    }
   },
   "outputs": [],
   "source": [
    "data = ImageClassifierDataLoader.from_folder(EYE_PREPARE_FOLDER)\n",
    "#train_data, test_data = data.split(0.9)\n",
    "\n",
    "train_data, rest_data = data.split(0.8)\n",
    "validation_data, test_data = rest_data.split(0.5)\n"
   ]
  },
  {
   "cell_type": "markdown",
   "metadata": {
    "pycharm": {
     "name": "#%% md\n"
    }
   },
   "source": [
    "Show 25 image examples"
   ]
  },
  {
   "cell_type": "code",
   "execution_count": null,
   "metadata": {
    "pycharm": {
     "name": "#%%\n"
    }
   },
   "outputs": [],
   "source": [
    "# Show 25 image examples with labels.\n",
    "plt.figure(figsize=(10, 10))\n",
    "for i, (image, label) in enumerate(data.dataset.take(25)):\n",
    "    plt.subplot(5, 5, i + 1)\n",
    "    plt.xticks([])\n",
    "    plt.yticks([])\n",
    "    plt.grid(False)\n",
    "    plt.imshow(image.numpy(), cmap=plt.cm.gray)\n",
    "    plt.xlabel(data.index_to_label[label.numpy()])\n",
    "plt.show()\n"
   ]
  },
  {
   "cell_type": "code",
   "execution_count": null,
   "metadata": {
    "pycharm": {
     "name": "#%%\n",
     "is_executing": true
    }
   },
   "outputs": [],
   "source": [
    "# Customize the TensorFlow model.\n",
    "model = image_classifier.create(data, epochs=EPOCH, model_spec=MODEL_SPEC, validation_data=validation_data)"
   ]
  },
  {
   "cell_type": "markdown",
   "metadata": {},
   "source": [
    "Have a look at the detailed model structure."
   ]
  },
  {
   "cell_type": "code",
   "execution_count": null,
   "metadata": {
    "pycharm": {
     "name": "#%%\n",
     "is_executing": true
    }
   },
   "outputs": [],
   "source": [
    "# Have a look at the detailed model structure.\n",
    "print('Summary!')\n",
    "model.summary()\n",
    "\n",
    "print('Plot history!')\n",
    "print(model.history.history)\n",
    "# summarize history for accuracy\n",
    "history = model.history\n",
    "plt.plot(history.history['accuracy'])\n",
    "plt.plot(history.history['loss'])\n",
    "plt.title('model accuracy')\n",
    "plt.ylabel('accuracy')\n",
    "plt.xlabel('epoch')\n",
    "plt.legend(['train', 'test'], loc='upper left')\n",
    "plt.show()\n",
    "\n",
    "# summarize history for loss\n",
    "plt.plot(history.history['loss'])\n",
    "plt.plot(history.history['val_loss'])\n",
    "plt.title('model loss')\n",
    "plt.ylabel('loss')\n",
    "plt.xlabel('epoch')\n",
    "plt.legend(['train', 'test'], loc='upper left')\n",
    "plt.show()"
   ]
  },
  {
   "cell_type": "markdown",
   "metadata": {},
   "source": [
    "### Evaluate the model."
   ]
  },
  {
   "cell_type": "code",
   "execution_count": null,
   "metadata": {
    "pycharm": {
     "name": "#%%\n",
     "is_executing": true
    }
   },
   "outputs": [],
   "source": [
    "# Evaluate the model.\n",
    "final_loss, final_accuracy = model.evaluate(test_data)\n",
    "print(\"Final loss: {:.2f}\".format(final_loss))\n",
    "print(\"Final accuracy: {:.2f}%\".format(final_accuracy * 100))\n",
    "\n",
    "# A helper function that returns 'red'/'black' depending on if its two input\n",
    "# parameter matches or not.\n",
    "def get_label_color(val1, val2):\n",
    "    if val1 == val2:\n",
    "        return 'black'\n",
    "    else:\n",
    "        return 'red'\n",
    "\n",
    "# Then plot 100 test images and their predicted labels.\n",
    "# If a prediction result is different from the label provided label in \"test\"\n",
    "# dataset, we will highlight it in red color.\n",
    "plt.figure(figsize=(20, 20))\n",
    "predicts = model.predict_top_k(test_data)\n",
    "for i, (image, label) in enumerate(test_data.dataset.take(100)):\n",
    "    ax = plt.subplot(10, 10, i + 1)\n",
    "    plt.xticks([])\n",
    "    plt.yticks([])\n",
    "    plt.grid(False)\n",
    "    plt.imshow(image.numpy(), cmap=plt.cm.gray)\n",
    "\n",
    "    predict_label = predicts[i][0][0]\n",
    "    color = get_label_color(predict_label,\n",
    "                            test_data.index_to_label[label.numpy()])\n",
    "    ax.xaxis.label.set_color(color)\n",
    "    plt.xlabel('Predicted: %s' % predict_label)\n",
    "plt.show()\n"
   ]
  },
  {
   "cell_type": "markdown",
   "metadata": {
    "pycharm": {
     "name": "#%% md\n"
    }
   },
   "source": [
    "### Export TFLite Floating model and label file"
   ]
  },
  {
   "cell_type": "code",
   "execution_count": null,
   "metadata": {
    "pycharm": {
     "name": "#%%\n",
     "is_executing": true
    }
   },
   "outputs": [],
   "source": [
    "Path(OUTPUT_MODELS_FOLDER).mkdir(parents=True, exist_ok=True)\n",
    "\n",
    "# Export to Tensorflow Lite model and label file in `export_dir`.\n",
    "model.export(export_dir=OUTPUT_MODELS_FOLDER, tflite_filename='eyes_float.tflite', label_filename='eyes_labels.txt')\n",
    "float_accuracy = model.evaluate_tflite(f\"{OUTPUT_MODELS_FOLDER}eyes_float.tflite\", test_data)\n",
    "print(f'Float accuracy {float_accuracy}')"
   ]
  },
  {
   "cell_type": "markdown",
   "source": [
    "### Export TFLite Quantized model and label file"
   ],
   "metadata": {
    "collapsed": false
   }
  },
  {
   "cell_type": "code",
   "execution_count": null,
   "outputs": [],
   "source": [
    "# Quant\n",
    "config = configs.QuantizationConfig.create_full_integer_quantization(representative_data=test_data,\n",
    "                                                                     is_integer_only=True)\n",
    "model.export(export_dir=OUTPUT_MODELS_FOLDER, tflite_filename='eyes_quant.tflite', label_filename='eyes_labels2.txt',\n",
    "             quantization_config=config)\n",
    "quant_accuracy = model.evaluate_tflite(f\"{OUTPUT_MODELS_FOLDER}eyes_quant.tflite\", test_data)\n",
    "print(f'Quant accuracy {quant_accuracy}')\n"
   ],
   "metadata": {
    "collapsed": false,
    "pycharm": {
     "name": "#%%\n",
     "is_executing": true
    }
   }
  },
  {
   "cell_type": "markdown",
   "source": [
    "### Run predictions on each test image data and calculate accuracy."
   ],
   "metadata": {
    "collapsed": false,
    "pycharm": {
     "name": "#%% md\n"
    }
   }
  },
  {
   "cell_type": "code",
   "execution_count": null,
   "metadata": {
    "pycharm": {
     "name": "#%%\n",
     "is_executing": true
    }
   },
   "outputs": [],
   "source": [
    "interpreter = tf.lite.Interpreter(\n",
    "    model_path=f\"{OUTPUT_MODELS_FOLDER}eyes_float.tflite\")\n",
    "interpreter.allocate_tensors()\n",
    "input_details = interpreter.get_input_details()\n",
    "output_details = interpreter.get_output_details()\n",
    "\n",
    "dataset_labels = ['closed', 'opened']\n",
    "# Run predictions on each test image data and calculate accuracy.\n",
    "accurate_count = 0\n",
    "for i, (image, label) in enumerate(test_data.dataset):\n",
    "    # Pre-processing should remain the same. Currently, just normalize each pixel value and resize image according to the model's specification.\n",
    "    image, _ = model.preprocess(image, label)\n",
    "    # Add batch dimension and convert to float32 to match with the model's input\n",
    "    # data format.\n",
    "    image = tf.expand_dims(image, 0).numpy()\n",
    "\n",
    "    # Run inference.\n",
    "    interpreter.set_tensor(input_details[0]['index'], image)\n",
    "    interpreter.invoke()\n",
    "    output_data = interpreter.get_tensor(output_details[0]['index'])\n",
    "\n",
    "    # Convert prediction results to Pandas dataframe, for better visualization\n",
    "    tflite_pred_dataframe = pd.DataFrame(output_data)\n",
    "    tflite_pred_dataframe.columns = dataset_labels\n",
    "\n",
    "    print(\"TFLite prediction results for the first elements\")\n",
    "    tflite_pred_dataframe.head()\n",
    "\n",
    "    # Post-processing: remove batch dimension and find the label with highest\n",
    "    # probability.\n",
    "    predict_label = np.argmax(output_data[0])\n",
    "    # Get label name with label index.\n",
    "    predict_label_name = dataset_labels[predict_label]\n",
    "\n",
    "    accurate_count += (predict_label == label.numpy())\n",
    "\n",
    "accuracy = accurate_count * 1.0 / test_data.size\n",
    "print('TensorFlow Lite model accuracy = %.3f' % accuracy)"
   ]
  }
 ],
 "metadata": {
  "kernelspec": {
   "display_name": "Python 3",
   "language": "python",
   "name": "python3"
  },
  "language_info": {
   "codemirror_mode": {
    "name": "ipython",
    "version": 3
   },
   "file_extension": ".py",
   "mimetype": "text/x-python",
   "name": "python",
   "nbconvert_exporter": "python",
   "pygments_lexer": "ipython3",
   "version": "3.6.8"
  }
 },
 "nbformat": 4,
 "nbformat_minor": 1
}